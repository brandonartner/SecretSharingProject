{
 "cells": [
  {
   "cell_type": "code",
   "execution_count": 1,
   "metadata": {
    "collapsed": false,
    "deletable": true,
    "editable": true
   },
   "outputs": [],
   "source": [
    "import sympy\n",
    "import numpy as np\n",
    "\n",
    "from scipy.interpolate import interp1d\n",
    "from sympy.abc import x"
   ]
  },
  {
   "cell_type": "code",
   "execution_count": 2,
   "metadata": {
    "collapsed": true,
    "deletable": true,
    "editable": true
   },
   "outputs": [],
   "source": [
    "def prime_generator(lo, hi):\n",
    "    ''' Generates a random prime number\n",
    "    \n",
    "        lo: Low bound for searching\n",
    "        hi: High bound for searching\n",
    "        \n",
    "        Returns: Random prime within bounds\n",
    "    '''\n",
    "    \n",
    "    return 1237 # totally random\n",
    "\n",
    "def random_distinct(lo, hi, size):\n",
    "    ''' Used to get lists of distinct random numbers\n",
    "    \n",
    "        lo: Low bound for searching\n",
    "        hi: High bound for searching\n",
    "        \n",
    "        Returns: Random numbers within bounds\n",
    "    '''\n",
    "    \n",
    "    v = []\n",
    "    \n",
    "    while len(v) < size:\n",
    "        rand = np.random.randint(lo, hi)\n",
    "        \n",
    "        if rand not in v:\n",
    "            v.append(rand)\n",
    "            \n",
    "    return v"
   ]
  },
  {
   "cell_type": "code",
   "execution_count": 9,
   "metadata": {
    "collapsed": false,
    "deletable": true,
    "editable": true
   },
   "outputs": [],
   "source": [
    "def generate_polynomial(data, degree):\n",
    "    ''' Makes a random polynomial\n",
    "    \n",
    "        data: The data as a numeric value to be split\n",
    "        degree: The degree of the polynomial, and the minimum number of keys needed to decrypt\n",
    "        \n",
    "        Returns: polynomial as a function\n",
    "    '''\n",
    "    \n",
    "    # will eventually give random primes greater than max{n, data}\n",
    "    p = prime_generator(None, None)\n",
    "    \n",
    "    # Shamir's algorithms requires each coefficient to be distinct\n",
    "    coefficients = random_distinct(1, p, degree)\n",
    "    \n",
    "    # start building our polynomial\n",
    "    polynomial = ''\n",
    "    power = degree\n",
    "    \n",
    "    while power > 0:\n",
    "        # each a_i*x^i for i from 1 to k-1\n",
    "        polynomial = polynomial + '{}*x**{}+'.format(coefficients[-power], power)\n",
    "        power -= 1\n",
    "        \n",
    "    # set a_0 to data\n",
    "    polynomial = polynomial + '{}'.format(data)\n",
    "    \n",
    "    # restrict the function to finite field\n",
    "    #polynomial = '({})%{}'.format(polynomial, p)\n",
    "    \n",
    "    # convert polynomial string to lambda function\n",
    "    f = sympy.utilities.lambdify(x, sympy.sympify(polynomial))\n",
    "    \n",
    "    return polynomial, f, p\n",
    "\n",
    "def generate_keys(n, poly, p):\n",
    "    ''' Creates the keys\n",
    "    \n",
    "        n: Number of keys to be created\n",
    "        poly: Polynomial function to create the keys\n",
    "        p: Prime number for modular arithmetic\n",
    "        \n",
    "        Returns: n-tuple of keys\n",
    "    '''\n",
    "    \n",
    "    # create distinct x values because f(a)=f(b) iff a=b \n",
    "    # implies less than n keys will be made\n",
    "    X = random_distinct(1, p, n)\n",
    "    \n",
    "    # get corresponding y values\n",
    "    Y = [poly(x) for x in X]\n",
    "    \n",
    "    return list(zip(X, Y))\n",
    "\n",
    "def decrypt(keys, p):\n",
    "    ''' Uses Lagrange interpolation to decrypt data\n",
    "    \n",
    "        keys: List of keys to use in the decryption\n",
    "        p: Prime number used to create finite field\n",
    "        \n",
    "        Returns: Decrypted data\n",
    "    '''\n",
    "    \n",
    "    x, y = zip(*keys)\n",
    "    summ = 0\n",
    "    \n",
    "    for i in range(len(y)):   \n",
    "        product = y[i]\n",
    "        \n",
    "        for j in range(len(x)):      \n",
    "            if i == j:\n",
    "                continue\n",
    "                \n",
    "            product *= x[j]/(x[j]-x[i])\n",
    "\n",
    "        summ += product\n",
    "        \n",
    "    return summ\n",
    "\n",
    "def decrypt2(keys, p):\n",
    "    x, y = zip(*keys)\n",
    "    s = ''\n",
    "    \n",
    "    for i in range(len(y)):\n",
    "        s = s + '{}'.format(y[i])\n",
    "        \n",
    "        for j in range(len(x)):\n",
    "            if i == j:\n",
    "                continue\n",
    "                \n",
    "            s = s + '*{0}/({0}-{1})'.format(x[j], x[i])\n",
    "        \n",
    "        if i != len(y) - 1:\n",
    "            s = s + '+'\n",
    "            \n",
    "    return sympy.sympify(s)"
   ]
  },
  {
   "cell_type": "code",
   "execution_count": 10,
   "metadata": {
    "collapsed": false,
    "deletable": true,
    "editable": true
   },
   "outputs": [
    {
     "data": {
      "text/plain": [
       "('1169*x**2+1044*x**1+10', 1237)"
      ]
     },
     "execution_count": 10,
     "metadata": {},
     "output_type": "execute_result"
    }
   ],
   "source": [
    "s, f, p = generate_polynomial(data=10, degree=2)\n",
    "s, p"
   ]
  },
  {
   "cell_type": "code",
   "execution_count": 11,
   "metadata": {
    "collapsed": false,
    "deletable": true,
    "editable": true
   },
   "outputs": [
    {
     "data": {
      "text/plain": [
       "[(1030, 1241267430),\n",
       " (945, 1044932815),\n",
       " (261, 79905943),\n",
       " (594, 413085430),\n",
       " (351, 144388423),\n",
       " (692, 560514474),\n",
       " (736, 634011018),\n",
       " (931, 1014215583),\n",
       " (442, 228841974),\n",
       " (929, 1009864815)]"
      ]
     },
     "execution_count": 11,
     "metadata": {},
     "output_type": "execute_result"
    }
   ],
   "source": [
    "keys = generate_keys(n=10, poly=f, p=p)\n",
    "keys"
   ]
  },
  {
   "cell_type": "code",
   "execution_count": 12,
   "metadata": {
    "collapsed": false,
    "deletable": true,
    "editable": true
   },
   "outputs": [
    {
     "data": {
      "text/plain": [
       "[(1030, 1241267430), (594, 413085430), (929, 1009864815)]"
      ]
     },
     "execution_count": 12,
     "metadata": {},
     "output_type": "execute_result"
    }
   ],
   "source": [
    "sample = [keys[0], keys[3], keys[-1]]\n",
    "sample"
   ]
  },
  {
   "cell_type": "code",
   "execution_count": 13,
   "metadata": {
    "collapsed": false,
    "deletable": true,
    "editable": true
   },
   "outputs": [
    {
     "data": {
      "text/plain": [
       "10.0"
      ]
     },
     "execution_count": 13,
     "metadata": {},
     "output_type": "execute_result"
    }
   ],
   "source": [
    "decrypt(keys, p) % 1237"
   ]
  },
  {
   "cell_type": "code",
   "execution_count": null,
   "metadata": {
    "collapsed": false,
    "deletable": true,
    "editable": true
   },
   "outputs": [],
   "source": []
  },
  {
   "cell_type": "code",
   "execution_count": null,
   "metadata": {
    "collapsed": true,
    "deletable": true,
    "editable": true
   },
   "outputs": [],
   "source": []
  }
 ],
 "metadata": {
  "kernelspec": {
   "display_name": "Python 3",
   "language": "python",
   "name": "python3"
  },
  "language_info": {
   "codemirror_mode": {
    "name": "ipython",
    "version": 3
   },
   "file_extension": ".py",
   "mimetype": "text/x-python",
   "name": "python",
   "nbconvert_exporter": "python",
   "pygments_lexer": "ipython3",
   "version": "3.6.0"
  }
 },
 "nbformat": 4,
 "nbformat_minor": 2
}
