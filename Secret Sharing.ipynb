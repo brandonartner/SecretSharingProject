{
 "cells": [
  {
   "cell_type": "code",
   "execution_count": null,
   "metadata": {
    "collapsed": true,
    "deletable": true,
    "editable": true
   },
   "outputs": [],
   "source": [
    "import sympy\n",
    "\n",
    "from scipy.interpoate import interp1d"
   ]
  },
  {
   "cell_type": "code",
   "execution_count": null,
   "metadata": {
    "collapsed": true
   },
   "outputs": [],
   "source": [
    "def generate_polynomial(data, degree):\n",
    "    ''' Makes a random polynomial\n",
    "    \n",
    "        data: The data as a numeric value to be split\n",
    "        degree: The degree of the polynomial, and the minimum number of keys needed to decrypt\n",
    "        \n",
    "        Returns: polynomial as a function\n",
    "    '''\n",
    "    \n",
    "    pass\n",
    "\n",
    "def generate_keys(n, poly):\n",
    "    ''' Creates the keys\n",
    "    \n",
    "        n: Number of keys to be created\n",
    "        poly: Polynomial function to create the keys\n",
    "        \n",
    "        Returns: n-tuple of keys\n",
    "    '''\n",
    "    \n",
    "    pass\n",
    "\n",
    "def decrypt(keys):\n",
    "    ''' Uses Lagrange interpolation to decrypt data\n",
    "    \n",
    "        keys: List of keys to use in the dectyption\n",
    "        \n",
    "        Returns: Decrypted data\n",
    "    '''\n",
    "    \n",
    "    pass\n"
   ]
  }
 ],
 "metadata": {
  "kernelspec": {
   "display_name": "Python 3",
   "language": "python",
   "name": "python3"
  },
  "language_info": {
   "codemirror_mode": {
    "name": "ipython",
    "version": 3
   },
   "file_extension": ".py",
   "mimetype": "text/x-python",
   "name": "python",
   "nbconvert_exporter": "python",
   "pygments_lexer": "ipython3",
   "version": "3.6.0"
  }
 },
 "nbformat": 4,
 "nbformat_minor": 2
}
