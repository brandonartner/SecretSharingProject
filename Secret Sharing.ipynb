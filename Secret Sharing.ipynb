{
 "cells": [
  {
   "cell_type": "code",
   "execution_count": 145,
   "metadata": {
    "collapsed": true
   },
   "outputs": [],
   "source": [
    "%matplotlib inline"
   ]
  },
  {
   "cell_type": "code",
   "execution_count": 146,
   "metadata": {
    "collapsed": true
   },
   "outputs": [],
   "source": [
    "import sympy\n",
    "import numpy as np\n",
    "import matplotlib.pyplot as plt\n",
    "\n",
    "from sympy.abc import x"
   ]
  },
  {
   "cell_type": "markdown",
   "metadata": {},
   "source": [
    "Here are just some helper functions to be used in the ($k$, $n$)-threshold scheme. \n",
    "\n",
    "$prime\\_generator$ gives us the prime number to be used throughout the encryption/decryption. We know that the prime number $p$ we need to use in Shamir's secret sharing must satisfy $p>max\\{D, n\\}$ where $D$ is the original data we wish to split into $n$ keys. (Not implemented)\n",
    "\n",
    "$random\\_distinct$ ensures that we get $n$ distinct random values $x_1,\\ldots,x_n$. This is important because these random numbers will be used as input to the generated polynomial, so any $x_i=x_j$ will generate the exact same key and less than $n$ keys will be made.\n",
    "\n",
    "$sample$ gives us a random sample of a list that we give it without replacement. Used to test the decryption with arbitrary k keys was created because numpy's $choice$ function will not work in our case."
   ]
  },
  {
   "cell_type": "code",
   "execution_count": 147,
   "metadata": {},
   "outputs": [],
   "source": [
    "def prime_generator(lo, hi):\n",
    "    ''' Generates a random prime number\n",
    "    \n",
    "        lo: Low bound for searching\n",
    "        hi: High bound for searching\n",
    "        \n",
    "        Returns: Random prime within bounds\n",
    "    '''\n",
    "    \n",
    "    return 1004137 # totally random\n",
    "\n",
    "def random_distinct(lo, hi, size):\n",
    "    ''' Used to get lists of distinct random numbers,\n",
    "    \n",
    "        lo: Low bound for searching\n",
    "        hi: High bound for searching\n",
    "        \n",
    "        Returns: Random numbers within bounds\n",
    "    '''\n",
    "    \n",
    "    v = []\n",
    "    \n",
    "    while len(v) < size:\n",
    "        rand = np.random.randint(lo, hi)\n",
    "        \n",
    "        if rand not in v:\n",
    "            v.append(rand)\n",
    "            \n",
    "    return v\n",
    "\n",
    "def sample(xs, size):\n",
    "    copy = [ x for x in xs ]\n",
    "    ys = []\n",
    "    \n",
    "    for i in range(size):\n",
    "        idx = np.random.randint(0, len(copy)-1)\n",
    "        ys.append(copy.pop(idx))\n",
    "        \n",
    "    return ys"
   ]
  },
  {
   "cell_type": "markdown",
   "metadata": {},
   "source": [
    "Here you can change the values of $n$ and $k$ to see how it affects the program."
   ]
  },
  {
   "cell_type": "code",
   "execution_count": 148,
   "metadata": {
    "collapsed": true
   },
   "outputs": [],
   "source": [
    "# number of keys to generate\n",
    "n = 20\n",
    "\n",
    "# number of keys required to decrypt\n",
    "k = 5"
   ]
  },
  {
   "cell_type": "markdown",
   "metadata": {},
   "source": [
    "Here we will create the $(k-1)$-degree polynomial that will be used to generate the $n$ keys. It has the form $q(x)=a_{k-1}x^{k-1}+\\ldots+a_2x^2+a_1x+a_0$, where $a_0=D$ and the $a_i$ are random integers."
   ]
  },
  {
   "cell_type": "code",
   "execution_count": 149,
   "metadata": {},
   "outputs": [],
   "source": [
    "def generate_polynomial(data, k):\n",
    "    ''' Makes a random polynomial\n",
    "    \n",
    "        data: The data as a numeric value to be split\n",
    "        degree: The degree of the polynomial, and the minimum number of keys needed to decrypt\n",
    "        \n",
    "        Returns: polynomial as a function\n",
    "    '''\n",
    "    \n",
    "    # will eventually give random primes greater than max{n, data}\n",
    "    p = prime_generator(None, None)\n",
    "    \n",
    "    # Shamir's algorithms requires each coefficient to be distinct\n",
    "    coefficients = random_distinct(0, p, k-1)\n",
    "    \n",
    "    # start building our polynomial\n",
    "    polynomial = ''\n",
    "    power = k-1\n",
    "    \n",
    "    while power > 0:\n",
    "        # each a_i*x^i for i from k-1 to 1\n",
    "        polynomial = polynomial + '{}*x**{}+'.format(coefficients[-power], power)\n",
    "        power -= 1\n",
    "        \n",
    "    # set a_0 to data\n",
    "    polynomial = polynomial + '{}'.format(data)\n",
    "    \n",
    "    # convert polynomial string to lambda function\n",
    "    f = sympy.utilities.lambdify(x, sympy.sympify(polynomial))\n",
    "    \n",
    "    return polynomial, f, p\n"
   ]
  },
  {
   "cell_type": "markdown",
   "metadata": {},
   "source": [
    "The output of the function is the polynomial represented as a string, a lambda function representing the polynomial, and the generated prime number to be used throughout. Shamir's paper does not specify whether or not the prime number is to be kept public or private, so more research is currently required on that detail."
   ]
  },
  {
   "cell_type": "code",
   "execution_count": 150,
   "metadata": {},
   "outputs": [
    {
     "data": {
      "text/plain": [
       "'688680*x**4+784725*x**3+484417*x**2+403434*x**1+10'"
      ]
     },
     "execution_count": 150,
     "metadata": {},
     "output_type": "execute_result"
    }
   ],
   "source": [
    "poly_str, poly_fn, prime = generate_polynomial(data=10, k=k)\n",
    "poly_str"
   ]
  },
  {
   "cell_type": "markdown",
   "metadata": {},
   "source": [
    "Here we generate the $n$ keys $D_1,\\ldots,D_n$ evaluated as $q(x_i)=D_i$."
   ]
  },
  {
   "cell_type": "code",
   "execution_count": 151,
   "metadata": {},
   "outputs": [
    {
     "data": {
      "text/plain": [
       "[(1, 352992),\n",
       " (2, 962623),\n",
       " (3, 201486),\n",
       " (4, 920840),\n",
       " (5, 409250),\n",
       " (6, 433957),\n",
       " (7, 211919),\n",
       " (8, 426359),\n",
       " (9, 214354),\n",
       " (10, 179246),\n",
       " (11, 382368),\n",
       " (12, 343044),\n",
       " (13, 42726),\n",
       " (14, 929131),\n",
       " (15, 895556),\n",
       " (16, 305700),\n",
       " (17, 989527),\n",
       " (18, 218444),\n",
       " (19, 746671),\n",
       " (20, 769871)]"
      ]
     },
     "execution_count": 151,
     "metadata": {},
     "output_type": "execute_result"
    }
   ],
   "source": [
    "def generate_keys(n, poly, p):\n",
    "    ''' Creates the keys\n",
    "    \n",
    "        n: Number of keys to be created\n",
    "        poly: Polynomial function to create the keys\n",
    "        p: Prime number for modular arithmetic\n",
    "        \n",
    "        Returns: n-tuple of keys\n",
    "    '''\n",
    "    \n",
    "    # create distinct x values because f(a)=f(b) iff a=b \n",
    "    # implies less than n keys will be made\n",
    "    #X = random_distinct(1, p, n)\n",
    "    X = range(1, n+1)\n",
    "    \n",
    "    # get corresponding y values\n",
    "    Y = [poly(x) % p for x in X]\n",
    "    \n",
    "    return list(zip(X, Y))\n",
    "\n",
    "keys = generate_keys(n=n, poly=poly_fn, p=prime)\n",
    "keys"
   ]
  },
  {
   "cell_type": "markdown",
   "metadata": {},
   "source": [
    "The way the decryption works is by reconstructing the original randomly created polynomial using $k$ keys. Each key has the form $(x_i, D_i)$. Using these $k$ points we can construct a Lagrange interpolating polynomial:\n",
    "\n",
    "$$P(x)=\\sum_{i=1}^kP_i(x)$$\n",
    "\n",
    "$$P_i(x)=D_i\\prod_{j\\neq i}^k\\frac{x-x_i}{x_j-x_i}$$\n",
    "\n",
    "We can optimize it a bit since we only need to evaluate the polynomial at $x=0$ to get $a_0=D$. This will give us\n",
    "\n",
    "$$P(0)=\\sum_{i=1}^k\\left(D_i\\prod_{j\\neq i}^k\\frac{x_i}{x_i-x_j}\\right)$$"
   ]
  },
  {
   "cell_type": "code",
   "execution_count": 152,
   "metadata": {},
   "outputs": [],
   "source": [
    "def decrypt(keys, p):\n",
    "    ''' Uses Lagrange interpolation to decrypt data\n",
    "    \n",
    "        keys: List of keys to use in the decryption\n",
    "        p: Prime number used to create finite field\n",
    "        \n",
    "        Returns: Decrypted data\n",
    "    '''\n",
    "    \n",
    "    x, y = zip(*keys)\n",
    "    summ = 0\n",
    "    \n",
    "    for i in range(len(y)):   \n",
    "        product = y[i]\n",
    "        \n",
    "        for j in range(len(x)):      \n",
    "            if i == j:\n",
    "                continue\n",
    "                \n",
    "            product *= x[j]/(x[j]-x[i])\n",
    "\n",
    "        summ += product\n",
    "        \n",
    "    return summ % p\n",
    "\n",
    "def decrypt2(keys, p):\n",
    "    a, b = zip(*keys)\n",
    "    s = ''\n",
    "    \n",
    "    for i in range(len(b)):\n",
    "        s = s + '{}'.format(b[i])\n",
    "        \n",
    "        for j in range(len(a)):\n",
    "            if i == j:\n",
    "                continue\n",
    "                \n",
    "            s = s + '*(x-{0})/({1}-{0})'.format(a[j], a[i])\n",
    "        \n",
    "        if i != len(b) - 1:\n",
    "            s = s + '+'\n",
    "           \n",
    "    \n",
    "    poly = sympy.sympify(s).simplify()\n",
    "    print(poly)\n",
    "    evald = poly.subs(x, 0)\n",
    "    print(evald)\n",
    "    num, den = sympy.fraction(evald)\n",
    "    print(num, den)\n",
    "    num = num % p\n",
    "    den = den % p\n",
    "    print(num, den)\n",
    "    \n",
    "    return num/den\n",
    "\n",
    "def alt_nevilles(keys,p):\n",
    "    #\n",
    "    #function Q = Altered_Nevilles_Method(x,keys)\n",
    "    #\n",
    "    #N = length(keys);\n",
    "    #Q = zeros(N);\n",
    "    #\n",
    "    #for i = 1:N\n",
    "    #    Q(i,1) = keys(i,2);\n",
    "    #    for j = 2:i\n",
    "    #        d1 = x - keys(i-j+1,1);\n",
    "    #        d2 = x - keys(i,1);\n",
    "    #        num = d1*Q(i,j-1)  -  d2*Q(i-1,j-1);\n",
    "    #        Q(i,j) = num / ( keys(i,1) - keys(i-j+1,1) );\n",
    "    #\n",
    "    #    end\n",
    "    #end\n",
    "    \n",
    "    N = len(keys)\n",
    "    Q = np.zeros((N,N))\n",
    "    \n",
    "    for i in range(N):\n",
    "        Q[i][0] = keys[i][1]\n",
    "        for j in range(1,i):\n",
    "            \n",
    "            d1 = keys[i-j][0]\n",
    "            d2 = keys[i][0]\n",
    "            \n",
    "            num = d1 * Q[i][j-1]  -  d2 * Q[i-1][j-1]\n",
    "            den = keys[i-j][0] - keys[i][0]\n",
    "            print(d1)\n",
    "            print(d2)\n",
    "            print(den)\n",
    "            \n",
    "            Q[i][j] = num / den\n",
    "            \n",
    "    return Q\n"
   ]
  },
  {
   "cell_type": "markdown",
   "metadata": {},
   "source": [
    "Shamir's scheme requires $k$ keys in order to correctly recreate the original polynomial. The polynomial created with the $k$ points is unique, so any polynomial created with less than $k$ will be completely different, offering no information. However, our understanding of the Chinese Remainder Theorem is left wanting."
   ]
  },
  {
   "cell_type": "code",
   "execution_count": 153,
   "metadata": {},
   "outputs": [
    {
     "data": {
      "text/plain": [
       "[(11, 382368), (8, 426359), (12, 343044), (2, 962623), (14, 929131)]"
      ]
     },
     "execution_count": 153,
     "metadata": {},
     "output_type": "execute_result"
    }
   ],
   "source": [
    "k_keys = sample(keys, k)\n",
    "k_keys"
   ]
  },
  {
   "cell_type": "code",
   "execution_count": 154,
   "metadata": {},
   "outputs": [
    {
     "name": "stdout",
     "output_type": "stream",
     "text": [
      "11307079*x**4/6480 - 8500177*x**3/144 + 75412187*x**2/108 - 1069231099*x/324 + 703901387/135\n",
      "703901387/135\n",
      "703901387 135\n",
      "1350 135\n"
     ]
    },
    {
     "data": {
      "text/plain": [
       "10"
      ]
     },
     "execution_count": 154,
     "metadata": {},
     "output_type": "execute_result"
    }
   ],
   "source": [
    "decrypt2(k_keys, prime)"
   ]
  },
  {
   "cell_type": "code",
   "execution_count": 155,
   "metadata": {},
   "outputs": [
    {
     "name": "stdout",
     "output_type": "stream",
     "text": [
      "8\n",
      "12\n",
      "-4\n",
      "12\n",
      "2\n",
      "10\n",
      "8\n",
      "2\n",
      "6\n",
      "2\n",
      "14\n",
      "-12\n",
      "12\n",
      "14\n",
      "-2\n",
      "8\n",
      "14\n",
      "-6\n"
     ]
    },
    {
     "data": {
      "text/plain": [
       "array([[  382368.        ,        0.        ,        0.        ,\n",
       "               0.        ,        0.        ],\n",
       "       [  426359.        ,        0.        ,        0.        ,\n",
       "               0.        ,        0.        ],\n",
       "       [  343044.        ,   592989.        ,        0.        ,\n",
       "               0.        ,        0.        ],\n",
       "       [  962623.        ,  1086538.8       ,  1251055.4       ,\n",
       "               0.        ,        0.        ],\n",
       "       [  929131.        ,   968205.        ,  1796541.6       ,\n",
       "          523740.46666667,        0.        ]])"
      ]
     },
     "execution_count": 155,
     "metadata": {},
     "output_type": "execute_result"
    }
   ],
   "source": [
    "alt_nevilles(k_keys, prime)"
   ]
  }
 ],
 "metadata": {
  "kernelspec": {
   "display_name": "Python 3",
   "language": "python",
   "name": "python3"
  },
  "language_info": {
   "codemirror_mode": {
    "name": "ipython",
    "version": 3
   },
   "file_extension": ".py",
   "mimetype": "text/x-python",
   "name": "python",
   "nbconvert_exporter": "python",
   "pygments_lexer": "ipython3",
   "version": "3.6.1"
  }
 },
 "nbformat": 4,
 "nbformat_minor": 2
}
