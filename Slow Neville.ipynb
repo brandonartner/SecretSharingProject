{
 "cells": [
  {
   "cell_type": "code",
   "execution_count": 89,
   "metadata": {
    "collapsed": true
   },
   "outputs": [],
   "source": [
    "from fractions import Fraction\n",
    "\n",
    "class SlowNeville:\n",
    "    ''' Incremental implementation of Neville's method\n",
    "    '''\n",
    "    \n",
    "    def __init__(self, k):\n",
    "        # two empty lists to store x and y\n",
    "        # values respectively\n",
    "        self.k = k\n",
    "        self.values = [[], []]\n",
    "        \n",
    "    def addKey(self, key):\n",
    "        ''' Adds given key and feeds forward \n",
    "        '''\n",
    "        \n",
    "        # splitting the key across first two lists\n",
    "        self.values[0].append(key[0])\n",
    "        self.values[1].append(key[1])\n",
    "        \n",
    "        # \n",
    "        for idx, lst in enumerate(self.values[1:]):\n",
    "            if len(lst) == 2:\n",
    "                val = self.firstOrderLag(idx)\n",
    "                \n",
    "                try:\n",
    "                    self.values[idx+2].append(val)\n",
    "                    \n",
    "                except:\n",
    "                    self.values.append([val])\n",
    "                    \n",
    "                # remove value from \n",
    "                self.values[idx+1].pop(0)\n",
    "        \n",
    "        if len(self.values[0]) == self.k:\n",
    "            for i in range(len(self.values)-1):\n",
    "                self.values[i] = []\n",
    "     \n",
    "    def firstOrderLag(self, idx):\n",
    "        j = -1\n",
    "        i = j - (idx + 1)\n",
    "            \n",
    "        x1 = self.values[0][i]\n",
    "        x2 = self.values[0][j]\n",
    "            \n",
    "        y1 = self.values[idx+1][-2]\n",
    "        y2 = self.values[idx+1][-1]\n",
    "        \n",
    "        num = (0-x2)*y1-(0-x1)*y2\n",
    "        den = x1-x2\n",
    "        return Fraction(num, den)\n",
    "            \n"
   ]
  },
  {
   "cell_type": "code",
   "execution_count": 90,
   "metadata": {
    "collapsed": false
   },
   "outputs": [
    {
     "name": "stdout",
     "output_type": "stream",
     "text": [
      "[[11], [382368]]\n"
     ]
    }
   ],
   "source": [
    "sn = SlowNeville(5)\n",
    "\n",
    "keys = [(11, 382368), (8, 426359), (12, 343044), (2, 962623), (14, 929131)]\n",
    "\n",
    "sn.addKey(keys[0])\n",
    "print(sn.values)"
   ]
  },
  {
   "cell_type": "code",
   "execution_count": 91,
   "metadata": {
    "collapsed": false
   },
   "outputs": [
    {
     "name": "stdout",
     "output_type": "stream",
     "text": [
      "[[11, 8], [426359], [Fraction(1631005, 3)]]\n"
     ]
    }
   ],
   "source": [
    "sn.addKey(keys[1])\n",
    "print(sn.values)"
   ]
  },
  {
   "cell_type": "code",
   "execution_count": 92,
   "metadata": {
    "collapsed": false
   },
   "outputs": [
    {
     "name": "stdout",
     "output_type": "stream",
     "text": [
      "[[11, 8, 12], [343044], [Fraction(592989, 1)], [Fraction(1141, 1)]]\n"
     ]
    }
   ],
   "source": [
    "sn.addKey(keys[2])\n",
    "print(sn.values)"
   ]
  },
  {
   "cell_type": "code",
   "execution_count": 93,
   "metadata": {
    "collapsed": false
   },
   "outputs": [
    {
     "name": "stdout",
     "output_type": "stream",
     "text": [
      "[[11, 8, 12, 2], [962623], [Fraction(5432694, 5)], [Fraction(6255277, 5)], [Fraction(68796637, 45)]]\n"
     ]
    }
   ],
   "source": [
    "sn.addKey(keys[3])\n",
    "print(sn.values)"
   ]
  },
  {
   "cell_type": "code",
   "execution_count": 94,
   "metadata": {
    "collapsed": false
   },
   "outputs": [
    {
     "name": "stdout",
     "output_type": "stream",
     "text": [
      "[[], [], [], [], [], [Fraction(703901387, 135)]]\n"
     ]
    }
   ],
   "source": [
    "sn.addKey(keys[4])\n",
    "print(sn.values)"
   ]
  },
  {
   "cell_type": "code",
   "execution_count": 95,
   "metadata": {
    "collapsed": false
   },
   "outputs": [
    {
     "data": {
      "text/plain": [
       "10.0"
      ]
     },
     "execution_count": 95,
     "metadata": {},
     "output_type": "execute_result"
    }
   ],
   "source": [
    "p = 1004137\n",
    "\n",
    "num = sn.values[-1][0].numerator % p\n",
    "den = sn.values[-1][0].denominator % p\n",
    "\n",
    "i = 0\n",
    "z = (p*i+num)/den\n",
    "    \n",
    "while z != int(z):\n",
    "    i += 1\n",
    "    z = (p*i+num)/den\n",
    "\n",
    "z"
   ]
  },
  {
   "cell_type": "code",
   "execution_count": null,
   "metadata": {
    "collapsed": true
   },
   "outputs": [],
   "source": []
  }
 ],
 "metadata": {
  "anaconda-cloud": {},
  "kernelspec": {
   "display_name": "Python [default]",
   "language": "python",
   "name": "python3"
  },
  "language_info": {
   "codemirror_mode": {
    "name": "ipython",
    "version": 3
   },
   "file_extension": ".py",
   "mimetype": "text/x-python",
   "name": "python",
   "nbconvert_exporter": "python",
   "pygments_lexer": "ipython3",
   "version": "3.5.2"
  }
 },
 "nbformat": 4,
 "nbformat_minor": 2
}
